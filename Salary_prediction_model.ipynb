{
 "cells": [
  {
   "cell_type": "code",
   "execution_count": 1,
   "id": "98cb11a5",
   "metadata": {},
   "outputs": [],
   "source": [
    "import pandas as pd\n",
    "import numpy as np"
   ]
  },
  {
   "cell_type": "code",
   "execution_count": 2,
   "id": "4c7cc0f1",
   "metadata": {},
   "outputs": [],
   "source": [
    "df=pd.read_csv('eda_data.csv')"
   ]
  },
  {
   "cell_type": "code",
   "execution_count": 3,
   "id": "eb7169ba",
   "metadata": {},
   "outputs": [
    {
     "data": {
      "text/html": [
       "<div>\n",
       "<style scoped>\n",
       "    .dataframe tbody tr th:only-of-type {\n",
       "        vertical-align: middle;\n",
       "    }\n",
       "\n",
       "    .dataframe tbody tr th {\n",
       "        vertical-align: top;\n",
       "    }\n",
       "\n",
       "    .dataframe thead th {\n",
       "        text-align: right;\n",
       "    }\n",
       "</style>\n",
       "<table border=\"1\" class=\"dataframe\">\n",
       "  <thead>\n",
       "    <tr style=\"text-align: right;\">\n",
       "      <th></th>\n",
       "      <th>Unnamed: 0</th>\n",
       "      <th>Job Profile</th>\n",
       "      <th>Company</th>\n",
       "      <th>AvgSalary</th>\n",
       "      <th>MinSalary</th>\n",
       "      <th>MaxSalary</th>\n",
       "      <th>MinExperience</th>\n",
       "      <th>MaxExperience</th>\n",
       "    </tr>\n",
       "  </thead>\n",
       "  <tbody>\n",
       "    <tr>\n",
       "      <th>0</th>\n",
       "      <td>0</td>\n",
       "      <td>System Engineer</td>\n",
       "      <td>tcs</td>\n",
       "      <td>594125</td>\n",
       "      <td>2.0</td>\n",
       "      <td>11.2</td>\n",
       "      <td>0.0</td>\n",
       "      <td>10.0</td>\n",
       "    </tr>\n",
       "    <tr>\n",
       "      <th>1</th>\n",
       "      <td>1</td>\n",
       "      <td>IT Analyst</td>\n",
       "      <td>tcs</td>\n",
       "      <td>905500</td>\n",
       "      <td>3.4</td>\n",
       "      <td>20.5</td>\n",
       "      <td>3.0</td>\n",
       "      <td>11.0</td>\n",
       "    </tr>\n",
       "    <tr>\n",
       "      <th>2</th>\n",
       "      <td>2</td>\n",
       "      <td>AST Consultant</td>\n",
       "      <td>tcs</td>\n",
       "      <td>1459521</td>\n",
       "      <td>4.0</td>\n",
       "      <td>29.8</td>\n",
       "      <td>6.0</td>\n",
       "      <td>15.0</td>\n",
       "    </tr>\n",
       "    <tr>\n",
       "      <th>3</th>\n",
       "      <td>3</td>\n",
       "      <td>Assistant System Engineer</td>\n",
       "      <td>tcs</td>\n",
       "      <td>395563</td>\n",
       "      <td>2.5</td>\n",
       "      <td>5.9</td>\n",
       "      <td>0.0</td>\n",
       "      <td>4.0</td>\n",
       "    </tr>\n",
       "    <tr>\n",
       "      <th>4</th>\n",
       "      <td>4</td>\n",
       "      <td>Associate Consultant</td>\n",
       "      <td>tcs</td>\n",
       "      <td>1813704</td>\n",
       "      <td>3.8</td>\n",
       "      <td>34.2</td>\n",
       "      <td>4.0</td>\n",
       "      <td>21.0</td>\n",
       "    </tr>\n",
       "  </tbody>\n",
       "</table>\n",
       "</div>"
      ],
      "text/plain": [
       "   Unnamed: 0                Job Profile Company  AvgSalary  MinSalary  \\\n",
       "0           0            System Engineer     tcs     594125        2.0   \n",
       "1           1                 IT Analyst     tcs     905500        3.4   \n",
       "2           2             AST Consultant     tcs    1459521        4.0   \n",
       "3           3  Assistant System Engineer     tcs     395563        2.5   \n",
       "4           4       Associate Consultant     tcs    1813704        3.8   \n",
       "\n",
       "   MaxSalary  MinExperience  MaxExperience  \n",
       "0       11.2            0.0           10.0  \n",
       "1       20.5            3.0           11.0  \n",
       "2       29.8            6.0           15.0  \n",
       "3        5.9            0.0            4.0  \n",
       "4       34.2            4.0           21.0  "
      ]
     },
     "execution_count": 3,
     "metadata": {},
     "output_type": "execute_result"
    }
   ],
   "source": [
    "df.head()"
   ]
  },
  {
   "cell_type": "code",
   "execution_count": 4,
   "id": "97201919",
   "metadata": {},
   "outputs": [],
   "source": [
    "df = df.drop('Unnamed: 0',axis=1)\n",
    "df = df.reset_index(drop=True)"
   ]
  },
  {
   "cell_type": "code",
   "execution_count": 5,
   "id": "09300a17",
   "metadata": {},
   "outputs": [
    {
     "data": {
      "text/html": [
       "<div>\n",
       "<style scoped>\n",
       "    .dataframe tbody tr th:only-of-type {\n",
       "        vertical-align: middle;\n",
       "    }\n",
       "\n",
       "    .dataframe tbody tr th {\n",
       "        vertical-align: top;\n",
       "    }\n",
       "\n",
       "    .dataframe thead th {\n",
       "        text-align: right;\n",
       "    }\n",
       "</style>\n",
       "<table border=\"1\" class=\"dataframe\">\n",
       "  <thead>\n",
       "    <tr style=\"text-align: right;\">\n",
       "      <th></th>\n",
       "      <th>Job Profile</th>\n",
       "      <th>Company</th>\n",
       "      <th>AvgSalary</th>\n",
       "      <th>MinSalary</th>\n",
       "      <th>MaxSalary</th>\n",
       "      <th>MinExperience</th>\n",
       "      <th>MaxExperience</th>\n",
       "    </tr>\n",
       "  </thead>\n",
       "  <tbody>\n",
       "    <tr>\n",
       "      <th>0</th>\n",
       "      <td>System Engineer</td>\n",
       "      <td>tcs</td>\n",
       "      <td>594125</td>\n",
       "      <td>2.0</td>\n",
       "      <td>11.2</td>\n",
       "      <td>0.0</td>\n",
       "      <td>10.0</td>\n",
       "    </tr>\n",
       "    <tr>\n",
       "      <th>1</th>\n",
       "      <td>IT Analyst</td>\n",
       "      <td>tcs</td>\n",
       "      <td>905500</td>\n",
       "      <td>3.4</td>\n",
       "      <td>20.5</td>\n",
       "      <td>3.0</td>\n",
       "      <td>11.0</td>\n",
       "    </tr>\n",
       "    <tr>\n",
       "      <th>2</th>\n",
       "      <td>AST Consultant</td>\n",
       "      <td>tcs</td>\n",
       "      <td>1459521</td>\n",
       "      <td>4.0</td>\n",
       "      <td>29.8</td>\n",
       "      <td>6.0</td>\n",
       "      <td>15.0</td>\n",
       "    </tr>\n",
       "    <tr>\n",
       "      <th>3</th>\n",
       "      <td>Assistant System Engineer</td>\n",
       "      <td>tcs</td>\n",
       "      <td>395563</td>\n",
       "      <td>2.5</td>\n",
       "      <td>5.9</td>\n",
       "      <td>0.0</td>\n",
       "      <td>4.0</td>\n",
       "    </tr>\n",
       "    <tr>\n",
       "      <th>4</th>\n",
       "      <td>Associate Consultant</td>\n",
       "      <td>tcs</td>\n",
       "      <td>1813704</td>\n",
       "      <td>3.8</td>\n",
       "      <td>34.2</td>\n",
       "      <td>4.0</td>\n",
       "      <td>21.0</td>\n",
       "    </tr>\n",
       "  </tbody>\n",
       "</table>\n",
       "</div>"
      ],
      "text/plain": [
       "                 Job Profile Company  AvgSalary  MinSalary  MaxSalary  \\\n",
       "0            System Engineer     tcs     594125        2.0       11.2   \n",
       "1                 IT Analyst     tcs     905500        3.4       20.5   \n",
       "2             AST Consultant     tcs    1459521        4.0       29.8   \n",
       "3  Assistant System Engineer     tcs     395563        2.5        5.9   \n",
       "4       Associate Consultant     tcs    1813704        3.8       34.2   \n",
       "\n",
       "   MinExperience  MaxExperience  \n",
       "0            0.0           10.0  \n",
       "1            3.0           11.0  \n",
       "2            6.0           15.0  \n",
       "3            0.0            4.0  \n",
       "4            4.0           21.0  "
      ]
     },
     "execution_count": 5,
     "metadata": {},
     "output_type": "execute_result"
    }
   ],
   "source": [
    "df.head()"
   ]
  },
  {
   "cell_type": "code",
   "execution_count": 6,
   "id": "14d36f48",
   "metadata": {},
   "outputs": [],
   "source": [
    "df['AvgExperience'] =  (df['MinExperience']+df['MaxExperience']) / 2"
   ]
  },
  {
   "cell_type": "code",
   "execution_count": 7,
   "id": "8ca9ebdc",
   "metadata": {},
   "outputs": [],
   "source": [
    "df.drop(['MinExperience', 'MaxExperience'], axis=1, inplace=True)"
   ]
  },
  {
   "cell_type": "code",
   "execution_count": 8,
   "id": "a25ca934",
   "metadata": {},
   "outputs": [],
   "source": [
    "df['Job_Company'] = df['Job Profile'] + '_' + df['Company']"
   ]
  },
  {
   "cell_type": "code",
   "execution_count": 9,
   "id": "8b5688b5",
   "metadata": {},
   "outputs": [],
   "source": [
    "df=df.drop(['Job Profile','Company'],axis=1)\n",
    "df=df.reset_index(drop=True)"
   ]
  },
  {
   "cell_type": "code",
   "execution_count": 10,
   "id": "e9791fc8",
   "metadata": {},
   "outputs": [
    {
     "data": {
      "text/html": [
       "<div>\n",
       "<style scoped>\n",
       "    .dataframe tbody tr th:only-of-type {\n",
       "        vertical-align: middle;\n",
       "    }\n",
       "\n",
       "    .dataframe tbody tr th {\n",
       "        vertical-align: top;\n",
       "    }\n",
       "\n",
       "    .dataframe thead th {\n",
       "        text-align: right;\n",
       "    }\n",
       "</style>\n",
       "<table border=\"1\" class=\"dataframe\">\n",
       "  <thead>\n",
       "    <tr style=\"text-align: right;\">\n",
       "      <th></th>\n",
       "      <th>AvgSalary</th>\n",
       "      <th>MinSalary</th>\n",
       "      <th>MaxSalary</th>\n",
       "      <th>AvgExperience</th>\n",
       "      <th>Job_Company</th>\n",
       "    </tr>\n",
       "  </thead>\n",
       "  <tbody>\n",
       "    <tr>\n",
       "      <th>0</th>\n",
       "      <td>594125</td>\n",
       "      <td>2.0</td>\n",
       "      <td>11.2</td>\n",
       "      <td>5.0</td>\n",
       "      <td>System Engineer_tcs</td>\n",
       "    </tr>\n",
       "    <tr>\n",
       "      <th>1</th>\n",
       "      <td>905500</td>\n",
       "      <td>3.4</td>\n",
       "      <td>20.5</td>\n",
       "      <td>7.0</td>\n",
       "      <td>IT Analyst_tcs</td>\n",
       "    </tr>\n",
       "    <tr>\n",
       "      <th>2</th>\n",
       "      <td>1459521</td>\n",
       "      <td>4.0</td>\n",
       "      <td>29.8</td>\n",
       "      <td>10.5</td>\n",
       "      <td>AST Consultant_tcs</td>\n",
       "    </tr>\n",
       "    <tr>\n",
       "      <th>3</th>\n",
       "      <td>395563</td>\n",
       "      <td>2.5</td>\n",
       "      <td>5.9</td>\n",
       "      <td>2.0</td>\n",
       "      <td>Assistant System Engineer_tcs</td>\n",
       "    </tr>\n",
       "    <tr>\n",
       "      <th>4</th>\n",
       "      <td>1813704</td>\n",
       "      <td>3.8</td>\n",
       "      <td>34.2</td>\n",
       "      <td>12.5</td>\n",
       "      <td>Associate Consultant_tcs</td>\n",
       "    </tr>\n",
       "  </tbody>\n",
       "</table>\n",
       "</div>"
      ],
      "text/plain": [
       "   AvgSalary  MinSalary  MaxSalary  AvgExperience  \\\n",
       "0     594125        2.0       11.2            5.0   \n",
       "1     905500        3.4       20.5            7.0   \n",
       "2    1459521        4.0       29.8           10.5   \n",
       "3     395563        2.5        5.9            2.0   \n",
       "4    1813704        3.8       34.2           12.5   \n",
       "\n",
       "                     Job_Company  \n",
       "0            System Engineer_tcs  \n",
       "1                 IT Analyst_tcs  \n",
       "2             AST Consultant_tcs  \n",
       "3  Assistant System Engineer_tcs  \n",
       "4       Associate Consultant_tcs  "
      ]
     },
     "execution_count": 10,
     "metadata": {},
     "output_type": "execute_result"
    }
   ],
   "source": [
    "df.head()"
   ]
  },
  {
   "cell_type": "code",
   "execution_count": 11,
   "id": "d555854c",
   "metadata": {},
   "outputs": [],
   "source": [
    "from sklearn.preprocessing import LabelEncoder\n",
    "\n",
    "# Create a LabelEncoder instance\n",
    "label_encoder = LabelEncoder()\n",
    "\n",
    "# Convert categorical columns to numerical using label encoding\n",
    "df['Company_Job'] = label_encoder.fit_transform(df['Job_Company'])\n"
   ]
  },
  {
   "cell_type": "code",
   "execution_count": 12,
   "id": "a82f91b4",
   "metadata": {},
   "outputs": [
    {
     "data": {
      "text/html": [
       "<div>\n",
       "<style scoped>\n",
       "    .dataframe tbody tr th:only-of-type {\n",
       "        vertical-align: middle;\n",
       "    }\n",
       "\n",
       "    .dataframe tbody tr th {\n",
       "        vertical-align: top;\n",
       "    }\n",
       "\n",
       "    .dataframe thead th {\n",
       "        text-align: right;\n",
       "    }\n",
       "</style>\n",
       "<table border=\"1\" class=\"dataframe\">\n",
       "  <thead>\n",
       "    <tr style=\"text-align: right;\">\n",
       "      <th></th>\n",
       "      <th>AvgSalary</th>\n",
       "      <th>MinSalary</th>\n",
       "      <th>MaxSalary</th>\n",
       "      <th>AvgExperience</th>\n",
       "      <th>Job_Company</th>\n",
       "      <th>Company_Job</th>\n",
       "    </tr>\n",
       "  </thead>\n",
       "  <tbody>\n",
       "    <tr>\n",
       "      <th>0</th>\n",
       "      <td>594125</td>\n",
       "      <td>2.0</td>\n",
       "      <td>11.2</td>\n",
       "      <td>5.0</td>\n",
       "      <td>System Engineer_tcs</td>\n",
       "      <td>4440</td>\n",
       "    </tr>\n",
       "    <tr>\n",
       "      <th>1</th>\n",
       "      <td>905500</td>\n",
       "      <td>3.4</td>\n",
       "      <td>20.5</td>\n",
       "      <td>7.0</td>\n",
       "      <td>IT Analyst_tcs</td>\n",
       "      <td>1840</td>\n",
       "    </tr>\n",
       "    <tr>\n",
       "      <th>2</th>\n",
       "      <td>1459521</td>\n",
       "      <td>4.0</td>\n",
       "      <td>29.8</td>\n",
       "      <td>10.5</td>\n",
       "      <td>AST Consultant_tcs</td>\n",
       "      <td>13</td>\n",
       "    </tr>\n",
       "    <tr>\n",
       "      <th>3</th>\n",
       "      <td>395563</td>\n",
       "      <td>2.5</td>\n",
       "      <td>5.9</td>\n",
       "      <td>2.0</td>\n",
       "      <td>Assistant System Engineer_tcs</td>\n",
       "      <td>396</td>\n",
       "    </tr>\n",
       "    <tr>\n",
       "      <th>4</th>\n",
       "      <td>1813704</td>\n",
       "      <td>3.8</td>\n",
       "      <td>34.2</td>\n",
       "      <td>12.5</td>\n",
       "      <td>Associate Consultant_tcs</td>\n",
       "      <td>448</td>\n",
       "    </tr>\n",
       "  </tbody>\n",
       "</table>\n",
       "</div>"
      ],
      "text/plain": [
       "   AvgSalary  MinSalary  MaxSalary  AvgExperience  \\\n",
       "0     594125        2.0       11.2            5.0   \n",
       "1     905500        3.4       20.5            7.0   \n",
       "2    1459521        4.0       29.8           10.5   \n",
       "3     395563        2.5        5.9            2.0   \n",
       "4    1813704        3.8       34.2           12.5   \n",
       "\n",
       "                     Job_Company  Company_Job  \n",
       "0            System Engineer_tcs         4440  \n",
       "1                 IT Analyst_tcs         1840  \n",
       "2             AST Consultant_tcs           13  \n",
       "3  Assistant System Engineer_tcs          396  \n",
       "4       Associate Consultant_tcs          448  "
      ]
     },
     "execution_count": 12,
     "metadata": {},
     "output_type": "execute_result"
    }
   ],
   "source": [
    "df.head()"
   ]
  },
  {
   "cell_type": "code",
   "execution_count": 13,
   "id": "4b077f1b",
   "metadata": {},
   "outputs": [],
   "source": [
    "df.drop('Job_Company',axis=1, inplace=True)"
   ]
  },
  {
   "cell_type": "code",
   "execution_count": 14,
   "id": "a7a7b292",
   "metadata": {},
   "outputs": [],
   "source": [
    "X = df.drop('AvgSalary', axis=1)  # Features\n",
    "y = df['AvgSalary']  # Target variable\n"
   ]
  },
  {
   "cell_type": "code",
   "execution_count": 15,
   "id": "6a242aa9",
   "metadata": {},
   "outputs": [
    {
     "data": {
      "text/plain": [
       "array([[0.03448276, 0.09203723, 0.14516129, 0.89660743],\n",
       "       [0.08275862, 0.18821096, 0.20967742, 0.37156704],\n",
       "       [0.10344828, 0.28438469, 0.32258065, 0.0026252 ],\n",
       "       ...,\n",
       "       [0.06896552, 0.03929679, 0.40322581, 0.82471729],\n",
       "       [0.04827586, 0.05894519, 0.        , 0.97273829],\n",
       "       [0.11034483, 0.10651499, 0.08064516, 0.43214863]])"
      ]
     },
     "execution_count": 15,
     "metadata": {},
     "output_type": "execute_result"
    }
   ],
   "source": [
    "from sklearn.preprocessing import MinMaxScaler\n",
    "sclr = MinMaxScaler()\n",
    "X_desired = sclr.fit_transform(X)\n",
    "X_desired"
   ]
  },
  {
   "cell_type": "code",
   "execution_count": 17,
   "id": "fe6e51c4",
   "metadata": {},
   "outputs": [
    {
     "data": {
      "text/plain": [
       "['min_max_scaler.pkl']"
      ]
     },
     "execution_count": 17,
     "metadata": {},
     "output_type": "execute_result"
    }
   ],
   "source": [
    "import joblib\n",
    "\n",
    "# Save the MinMaxScaler to a file\n",
    "joblib.dump(sclr, 'min_max_scaler.pkl')\n"
   ]
  },
  {
   "cell_type": "code",
   "execution_count": 18,
   "id": "7f0d61f2",
   "metadata": {},
   "outputs": [
    {
     "name": "stdout",
     "output_type": "stream",
     "text": [
      "X_train shape: (4000, 4)\n",
      "X_test shape: (1000, 4)\n",
      "y_train shape: (4000,)\n",
      "y_test shape: (1000,)\n"
     ]
    }
   ],
   "source": [
    "from sklearn.model_selection import train_test_split\n",
    "\n",
    "# Splitting the data into training and testing sets\n",
    "X_train, X_test, y_train, y_test = train_test_split(X_desired, y, test_size=0.2, random_state=42)\n",
    "\n",
    "# Check the shapes of the train and test sets\n",
    "print(\"X_train shape:\", X_train.shape)\n",
    "print(\"X_test shape:\", X_test.shape)\n",
    "print(\"y_train shape:\", y_train.shape)\n",
    "print(\"y_test shape:\", y_test.shape)\n"
   ]
  },
  {
   "cell_type": "code",
   "execution_count": 19,
   "id": "c9b863c3",
   "metadata": {},
   "outputs": [
    {
     "name": "stdout",
     "output_type": "stream",
     "text": [
      "Number of missing values in X_train: \n",
      " 0\n"
     ]
    }
   ],
   "source": [
    "missing_values = np.isnan(X_train)\n",
    "missing_values_count = np.sum(missing_values)\n",
    "\n",
    "print(\"Number of missing values in X_train: \\n\", missing_values_count)"
   ]
  },
  {
   "cell_type": "code",
   "execution_count": 11,
   "id": "5f11d99b",
   "metadata": {},
   "outputs": [],
   "source": [
    "from sklearn.preprocessing import LabelEncoder\n",
    "\n",
    "# Create a LabelEncoder instance\n",
    "label_encoder = LabelEncoder()\n",
    "\n",
    "# Convert categorical columns to numerical using label encoding\n",
    "df['Job Profile'] = label_encoder.fit_transform(df['Job Profile'])\n",
    "df['Company'] = label_encoder.fit_transform(df['Company'])\n"
   ]
  },
  {
   "cell_type": "code",
   "execution_count": 12,
   "id": "00cf4d96",
   "metadata": {},
   "outputs": [
    {
     "data": {
      "text/plain": [
       "Job Profile        int32\n",
       "Company            int32\n",
       "AvgSalary          int64\n",
       "MinSalary        float64\n",
       "MaxSalary        float64\n",
       "MinExperience    float64\n",
       "MaxExperience    float64\n",
       "dtype: object"
      ]
     },
     "execution_count": 12,
     "metadata": {},
     "output_type": "execute_result"
    }
   ],
   "source": [
    "df.dtypes"
   ]
  },
  {
   "cell_type": "code",
   "execution_count": 13,
   "id": "245b94fb",
   "metadata": {},
   "outputs": [],
   "source": [
    "from sklearn.preprocessing import StandardScaler\n",
    "X = df.drop('AvgSalary', axis=1)  # Features\n",
    "y = df['AvgSalary']  # Target variable\n"
   ]
  },
  {
   "cell_type": "code",
   "execution_count": 14,
   "id": "16e80be4",
   "metadata": {},
   "outputs": [],
   "source": [
    "scaler = StandardScaler()\n",
    "X_scaled = scaler.fit_transform(X)\n"
   ]
  },
  {
   "cell_type": "code",
   "execution_count": 15,
   "id": "156cc35d",
   "metadata": {},
   "outputs": [
    {
     "name": "stdout",
     "output_type": "stream",
     "text": [
      "X_train shape: (4000, 6)\n",
      "X_test shape: (1000, 6)\n",
      "y_train shape: (4000,)\n",
      "y_test shape: (1000,)\n"
     ]
    }
   ],
   "source": [
    "from sklearn.model_selection import train_test_split\n",
    "\n",
    "# Splitting the data into training and testing sets\n",
    "X_train, X_test, y_train, y_test = train_test_split(X_scaled, y, test_size=0.2, random_state=42)\n",
    "\n",
    "# Check the shapes of the train and test sets\n",
    "print(\"X_train shape:\", X_train.shape)\n",
    "print(\"X_test shape:\", X_test.shape)\n",
    "print(\"y_train shape:\", y_train.shape)\n",
    "print(\"y_test shape:\", y_test.shape)\n"
   ]
  },
  {
   "cell_type": "code",
   "execution_count": 16,
   "id": "ecb3fe09",
   "metadata": {},
   "outputs": [
    {
     "name": "stdout",
     "output_type": "stream",
     "text": [
      "Number of missing values in X_train: 0\n"
     ]
    }
   ],
   "source": [
    "missing_values = np.isnan(X_train)\n",
    "missing_values_count = np.sum(missing_values)\n",
    "\n",
    "print(\"Number of missing values in X_train:\", missing_values_count)"
   ]
  },
  {
   "cell_type": "code",
   "execution_count": 20,
   "id": "e3a5e7a7",
   "metadata": {},
   "outputs": [
    {
     "name": "stdout",
     "output_type": "stream",
     "text": [
      "Linear Regression:\n",
      "Mean Squared Error: 84616606548.19821\n",
      "Mean Absolute Error: 143962.1436349053\n",
      "R-squared: 0.7788261714771483\n",
      "\n",
      "Random Forest Regression:\n",
      "Mean Squared Error: 70735031609.63695\n",
      "Mean Absolute Error: 89559.41124000002\n",
      "R-squared: 0.8151103147480041\n",
      "\n",
      "Support Vector Regression:\n",
      "Mean Squared Error: 433746203838.721\n",
      "Mean Absolute Error: 374389.8390508295\n",
      "R-squared: -0.133740910014146\n"
     ]
    }
   ],
   "source": [
    "from sklearn.linear_model import LinearRegression\n",
    "from sklearn.ensemble import RandomForestRegressor\n",
    "from sklearn.svm import SVR\n",
    "from sklearn.metrics import mean_squared_error, mean_absolute_error, r2_score\n",
    "\n",
    "# Linear Regression\n",
    "linear_reg_model = LinearRegression()\n",
    "linear_reg_model.fit(X_train, y_train)\n",
    "linear_reg_pred = linear_reg_model.predict(X_test)\n",
    "linear_mse = mean_squared_error(y_test, linear_reg_pred)\n",
    "linear_mae = mean_absolute_error(y_test, linear_reg_pred)\n",
    "linear_r2 = r2_score(y_test, linear_reg_pred)\n",
    "\n",
    "# Random Forest Regression\n",
    "rf_model = RandomForestRegressor()\n",
    "rf_model.fit(X_train, y_train)\n",
    "rf_pred = rf_model.predict(X_test)\n",
    "rf_mse = mean_squared_error(y_test, rf_pred)\n",
    "rf_mae = mean_absolute_error(y_test, rf_pred)\n",
    "rf_r2 = r2_score(y_test, rf_pred)\n",
    "\n",
    "# Support Vector Regression\n",
    "svr_model = SVR()\n",
    "svr_model.fit(X_train, y_train)\n",
    "svr_pred = svr_model.predict(X_test)\n",
    "svr_mse = mean_squared_error(y_test, svr_pred)\n",
    "svr_mae = mean_absolute_error(y_test, svr_pred)\n",
    "svr_r2 = r2_score(y_test, svr_pred)\n",
    "\n",
    "print(\"Linear Regression:\")\n",
    "print(\"Mean Squared Error:\", linear_mse)\n",
    "print(\"Mean Absolute Error:\", linear_mae)\n",
    "print(\"R-squared:\", linear_r2)\n",
    "\n",
    "print(\"\\nRandom Forest Regression:\")\n",
    "print(\"Mean Squared Error:\", rf_mse)\n",
    "print(\"Mean Absolute Error:\", rf_mae)\n",
    "print(\"R-squared:\", rf_r2)\n",
    "\n",
    "print(\"\\nSupport Vector Regression:\")\n",
    "print(\"Mean Squared Error:\", svr_mse)\n",
    "print(\"Mean Absolute Error:\", svr_mae)\n",
    "print(\"R-squared:\", svr_r2)\n"
   ]
  },
  {
   "cell_type": "code",
   "execution_count": 21,
   "id": "2e789eee",
   "metadata": {},
   "outputs": [
    {
     "name": "stdout",
     "output_type": "stream",
     "text": [
      "Random Forest Regression:\n",
      "Mean Squared Error: 70735031609.63695\n",
      "Mean Absolute Error: 89559.41124000002\n",
      "R-squared: 0.8151103147480041\n"
     ]
    }
   ],
   "source": [
    "print(\"Random Forest Regression:\")\n",
    "print(f\"Mean Squared Error: {rf_mse}\")\n",
    "print(f\"Mean Absolute Error: {rf_mae}\")\n",
    "print(f\"R-squared: {rf_r2}\")\n"
   ]
  },
  {
   "cell_type": "code",
   "execution_count": 22,
   "id": "b5716286",
   "metadata": {},
   "outputs": [
    {
     "name": "stdout",
     "output_type": "stream",
     "text": [
      "Feature Importances:\n",
      "[('MaxSalary', 0.7052629415202084), ('Company_Job', 0.13654763178566184), ('MinSalary', 0.12556680993785907), ('AvgExperience', 0.03262261675627068)]\n"
     ]
    }
   ],
   "source": [
    "feature_importances = rf_model.feature_importances_\n",
    "feature_names = X.columns\n",
    "feature_importance_dict = dict(zip(feature_names, feature_importances))\n",
    "sorted_feature_importance = sorted(feature_importance_dict.items(), key=lambda x: x[1], reverse=True)\n",
    "print(\"Feature Importances:\")\n",
    "print(sorted_feature_importance)"
   ]
  },
  {
   "cell_type": "code",
   "execution_count": 23,
   "id": "68e4849f",
   "metadata": {},
   "outputs": [
    {
     "name": "stdout",
     "output_type": "stream",
     "text": [
      "Random Forest Regression:\n",
      "ROOT Mean Squared Error: 257917.66193031764\n",
      "Mean Absolute Error: 87467.75036794462\n",
      "R-squared: 0.8261237370302101\n"
     ]
    }
   ],
   "source": [
    "from sklearn.ensemble import RandomForestRegressor\n",
    "from sklearn.metrics import mean_squared_error, mean_absolute_error, r2_score\n",
    "\n",
    "# Create a new Random Forest Regressor with the best hyperparameters\n",
    "best_rf_model = RandomForestRegressor(\n",
    "    n_estimators=300,\n",
    "    min_samples_split=2,\n",
    "    min_samples_leaf=4,\n",
    "    max_depth=20\n",
    ")\n",
    "\n",
    "# Train the model on the training data\n",
    "best_rf_model.fit(X_train, y_train)\n",
    "\n",
    "# Make predictions on the test data\n",
    "rf_pred = best_rf_model.predict(X_test)\n",
    "\n",
    "# Calculate evaluation metrics\n",
    "rf_mse = mean_squared_error(y_test, rf_pred)\n",
    "rf_mae = mean_absolute_error(y_test, rf_pred)\n",
    "rf_r2 = r2_score(y_test, rf_pred)\n",
    "\n",
    "# Print the evaluation metrics\n",
    "print(\"Random Forest Regression:\")\n",
    "print(\"ROOT Mean Squared Error:\", np.sqrt(rf_mse))\n",
    "print(\"Mean Absolute Error:\", rf_mae)\n",
    "print(\"R-squared:\", rf_r2)\n"
   ]
  },
  {
   "cell_type": "code",
   "execution_count": 24,
   "id": "41273413",
   "metadata": {},
   "outputs": [
    {
     "data": {
      "text/html": [
       "<style>#sk-container-id-1 {color: black;background-color: white;}#sk-container-id-1 pre{padding: 0;}#sk-container-id-1 div.sk-toggleable {background-color: white;}#sk-container-id-1 label.sk-toggleable__label {cursor: pointer;display: block;width: 100%;margin-bottom: 0;padding: 0.3em;box-sizing: border-box;text-align: center;}#sk-container-id-1 label.sk-toggleable__label-arrow:before {content: \"▸\";float: left;margin-right: 0.25em;color: #696969;}#sk-container-id-1 label.sk-toggleable__label-arrow:hover:before {color: black;}#sk-container-id-1 div.sk-estimator:hover label.sk-toggleable__label-arrow:before {color: black;}#sk-container-id-1 div.sk-toggleable__content {max-height: 0;max-width: 0;overflow: hidden;text-align: left;background-color: #f0f8ff;}#sk-container-id-1 div.sk-toggleable__content pre {margin: 0.2em;color: black;border-radius: 0.25em;background-color: #f0f8ff;}#sk-container-id-1 input.sk-toggleable__control:checked~div.sk-toggleable__content {max-height: 200px;max-width: 100%;overflow: auto;}#sk-container-id-1 input.sk-toggleable__control:checked~label.sk-toggleable__label-arrow:before {content: \"▾\";}#sk-container-id-1 div.sk-estimator input.sk-toggleable__control:checked~label.sk-toggleable__label {background-color: #d4ebff;}#sk-container-id-1 div.sk-label input.sk-toggleable__control:checked~label.sk-toggleable__label {background-color: #d4ebff;}#sk-container-id-1 input.sk-hidden--visually {border: 0;clip: rect(1px 1px 1px 1px);clip: rect(1px, 1px, 1px, 1px);height: 1px;margin: -1px;overflow: hidden;padding: 0;position: absolute;width: 1px;}#sk-container-id-1 div.sk-estimator {font-family: monospace;background-color: #f0f8ff;border: 1px dotted black;border-radius: 0.25em;box-sizing: border-box;margin-bottom: 0.5em;}#sk-container-id-1 div.sk-estimator:hover {background-color: #d4ebff;}#sk-container-id-1 div.sk-parallel-item::after {content: \"\";width: 100%;border-bottom: 1px solid gray;flex-grow: 1;}#sk-container-id-1 div.sk-label:hover label.sk-toggleable__label {background-color: #d4ebff;}#sk-container-id-1 div.sk-serial::before {content: \"\";position: absolute;border-left: 1px solid gray;box-sizing: border-box;top: 0;bottom: 0;left: 50%;z-index: 0;}#sk-container-id-1 div.sk-serial {display: flex;flex-direction: column;align-items: center;background-color: white;padding-right: 0.2em;padding-left: 0.2em;position: relative;}#sk-container-id-1 div.sk-item {position: relative;z-index: 1;}#sk-container-id-1 div.sk-parallel {display: flex;align-items: stretch;justify-content: center;background-color: white;position: relative;}#sk-container-id-1 div.sk-item::before, #sk-container-id-1 div.sk-parallel-item::before {content: \"\";position: absolute;border-left: 1px solid gray;box-sizing: border-box;top: 0;bottom: 0;left: 50%;z-index: -1;}#sk-container-id-1 div.sk-parallel-item {display: flex;flex-direction: column;z-index: 1;position: relative;background-color: white;}#sk-container-id-1 div.sk-parallel-item:first-child::after {align-self: flex-end;width: 50%;}#sk-container-id-1 div.sk-parallel-item:last-child::after {align-self: flex-start;width: 50%;}#sk-container-id-1 div.sk-parallel-item:only-child::after {width: 0;}#sk-container-id-1 div.sk-dashed-wrapped {border: 1px dashed gray;margin: 0 0.4em 0.5em 0.4em;box-sizing: border-box;padding-bottom: 0.4em;background-color: white;}#sk-container-id-1 div.sk-label label {font-family: monospace;font-weight: bold;display: inline-block;line-height: 1.2em;}#sk-container-id-1 div.sk-label-container {text-align: center;}#sk-container-id-1 div.sk-container {/* jupyter's `normalize.less` sets `[hidden] { display: none; }` but bootstrap.min.css set `[hidden] { display: none !important; }` so we also need the `!important` here to be able to override the default hidden behavior on the sphinx rendered scikit-learn.org. See: https://github.com/scikit-learn/scikit-learn/issues/21755 */display: inline-block !important;position: relative;}#sk-container-id-1 div.sk-text-repr-fallback {display: none;}</style><div id=\"sk-container-id-1\" class=\"sk-top-container\"><div class=\"sk-text-repr-fallback\"><pre>RandomForestRegressor(max_depth=20, min_samples_leaf=4, n_estimators=300)</pre><b>In a Jupyter environment, please rerun this cell to show the HTML representation or trust the notebook. <br />On GitHub, the HTML representation is unable to render, please try loading this page with nbviewer.org.</b></div><div class=\"sk-container\" hidden><div class=\"sk-item\"><div class=\"sk-estimator sk-toggleable\"><input class=\"sk-toggleable__control sk-hidden--visually\" id=\"sk-estimator-id-1\" type=\"checkbox\" checked><label for=\"sk-estimator-id-1\" class=\"sk-toggleable__label sk-toggleable__label-arrow\">RandomForestRegressor</label><div class=\"sk-toggleable__content\"><pre>RandomForestRegressor(max_depth=20, min_samples_leaf=4, n_estimators=300)</pre></div></div></div></div></div>"
      ],
      "text/plain": [
       "RandomForestRegressor(max_depth=20, min_samples_leaf=4, n_estimators=300)"
      ]
     },
     "execution_count": 24,
     "metadata": {},
     "output_type": "execute_result"
    }
   ],
   "source": [
    "best_rf_model = RandomForestRegressor(n_estimators=300, min_samples_split=2, min_samples_leaf=4, max_depth=20)\n",
    "best_rf_model.fit(X_train, y_train)\n"
   ]
  },
  {
   "cell_type": "code",
   "execution_count": 25,
   "id": "3a8bfbef",
   "metadata": {},
   "outputs": [],
   "source": [
    "predicted_avg_salary = best_rf_model.predict(X_test)\n"
   ]
  },
  {
   "cell_type": "code",
   "execution_count": 26,
   "id": "ad52766a",
   "metadata": {},
   "outputs": [
    {
     "name": "stdout",
     "output_type": "stream",
     "text": [
      "      Actual AvgSalary  Predicted AvgSalary\n",
      "1501           1095900         1.036119e+06\n",
      "2586            467380         5.085842e+05\n",
      "2653            858310         7.992504e+05\n",
      "1055           2135528         1.994395e+06\n",
      "705             447022         5.090269e+05\n",
      "...                ...                  ...\n",
      "4711            199771         3.447954e+05\n",
      "2313           1871584         1.813771e+06\n",
      "3214            161619         4.584530e+05\n",
      "2732            921350         9.194623e+05\n",
      "1926            926299         9.342432e+05\n",
      "\n",
      "[1000 rows x 2 columns]\n"
     ]
    }
   ],
   "source": [
    "comparison = pd.DataFrame({'Actual AvgSalary': y_test, 'Predicted AvgSalary': predicted_avg_salary})\n",
    "print(comparison)\n"
   ]
  },
  {
   "cell_type": "code",
   "execution_count": 27,
   "id": "95ab4586",
   "metadata": {},
   "outputs": [
    {
     "name": "stdout",
     "output_type": "stream",
     "text": [
      "0.8255952487825349\n"
     ]
    }
   ],
   "source": [
    "from sklearn.metrics import confusion_matrix, accuracy_score,r2_score\n",
    "ac = r2_score(y_test,predicted_avg_salary)\n",
    "print(ac)"
   ]
  },
  {
   "cell_type": "code",
   "execution_count": 28,
   "id": "ca6d1c6a",
   "metadata": {},
   "outputs": [
    {
     "name": "stdout",
     "output_type": "stream",
     "text": [
      "Random Forest Regression:\n",
      "Root Mean Squared Error: 258309.32849195017\n",
      "Mean Absolute Error: 87993.82412425228\n",
      "R-squared: 0.8255952487825349\n"
     ]
    }
   ],
   "source": [
    "# Calculate evaluation metrics\n",
    "rf_mse = mean_squared_error(y_test, predicted_avg_salary)\n",
    "rf_mae = mean_absolute_error(y_test, predicted_avg_salary)\n",
    "rf_r2 = r2_score(y_test, predicted_avg_salary)\n",
    "\n",
    "# Print the evaluation metrics\n",
    "print(\"Random Forest Regression:\")\n",
    "print(\"Root Mean Squared Error:\", np.sqrt(rf_mse))\n",
    "print(\"Mean Absolute Error:\", rf_mae)\n",
    "print(\"R-squared:\", rf_r2)"
   ]
  },
  {
   "cell_type": "code",
   "execution_count": 29,
   "id": "a9ed6eef",
   "metadata": {},
   "outputs": [
    {
     "name": "stdout",
     "output_type": "stream",
     "text": [
      "Accuracy of the best tuned Random Forest model: 82.56%\n"
     ]
    }
   ],
   "source": [
    "from sklearn.metrics import r2_score\n",
    "\n",
    "# Predictions using the best tuned Random Forest model\n",
    "rf_pred = best_rf_model.predict(X_test)\n",
    "\n",
    "# Calculate R-squared\n",
    "r2 = r2_score(y_test, rf_pred)\n",
    "\n",
    "# Calculate accuracy in percentage\n",
    "accuracy_percentage = r2 * 100\n",
    "\n",
    "print(f\"Accuracy of the best tuned Random Forest model: {accuracy_percentage:.2f}%\")\n"
   ]
  },
  {
   "cell_type": "code",
   "execution_count": 30,
   "id": "e745109f",
   "metadata": {},
   "outputs": [
    {
     "data": {
      "text/plain": [
       "['random_forest_model_scaled.pkl']"
      ]
     },
     "execution_count": 30,
     "metadata": {},
     "output_type": "execute_result"
    }
   ],
   "source": [
    "import joblib\n",
    "\n",
    "# Save the model to a file\n",
    "model_filename = 'random_forest_model_scaled.pkl'\n",
    "joblib.dump(best_rf_model, model_filename)\n"
   ]
  },
  {
   "cell_type": "code",
   "execution_count": 31,
   "id": "3e37ef20",
   "metadata": {},
   "outputs": [],
   "source": [
    "loaded_model = joblib.load(model_filename)\n"
   ]
  },
  {
   "cell_type": "code",
   "execution_count": 32,
   "id": "3f8690cc",
   "metadata": {},
   "outputs": [
    {
     "name": "stdout",
     "output_type": "stream",
     "text": [
      "RandomForestRegressor(max_depth=20, min_samples_leaf=4, n_estimators=300)\n"
     ]
    }
   ],
   "source": [
    "print(loaded_model)"
   ]
  },
  {
   "cell_type": "code",
   "execution_count": 34,
   "id": "d2d9aa6a",
   "metadata": {},
   "outputs": [
    {
     "data": {
      "text/plain": [
       "array([0.0137931 , 0.05791107, 0.16129032, 0.75726979])"
      ]
     },
     "execution_count": 34,
     "metadata": {},
     "output_type": "execute_result"
    }
   ],
   "source": [
    "val_pred = X_desired[5]\n",
    "val_pred"
   ]
  },
  {
   "cell_type": "code",
   "execution_count": 35,
   "id": "d44791fb",
   "metadata": {},
   "outputs": [
    {
     "name": "stdout",
     "output_type": "stream",
     "text": [
      "[418385.45507664]\n"
     ]
    }
   ],
   "source": [
    "# N = 5\n",
    "# df.iloc[N]\n",
    "\n",
    "# value_pred = X_desired.iloc[N].to_list()\n",
    "# value_pred = value_pred[1:]\n",
    "# print(value_pred)\n",
    "\n",
    "predictions = loaded_model.predict([val_pred])\n",
    "\n",
    "print(predictions)"
   ]
  },
  {
   "cell_type": "code",
   "execution_count": null,
   "id": "d09df2ca",
   "metadata": {},
   "outputs": [],
   "source": []
  }
 ],
 "metadata": {
  "kernelspec": {
   "display_name": "Python 3 (ipykernel)",
   "language": "python",
   "name": "python3"
  },
  "language_info": {
   "codemirror_mode": {
    "name": "ipython",
    "version": 3
   },
   "file_extension": ".py",
   "mimetype": "text/x-python",
   "name": "python",
   "nbconvert_exporter": "python",
   "pygments_lexer": "ipython3",
   "version": "3.11.3"
  }
 },
 "nbformat": 4,
 "nbformat_minor": 5
}
